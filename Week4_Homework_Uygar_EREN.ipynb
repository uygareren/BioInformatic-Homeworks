{
  "nbformat": 4,
  "nbformat_minor": 0,
  "metadata": {
    "colab": {
      "provenance": []
    },
    "kernelspec": {
      "name": "python3",
      "display_name": "Python 3"
    },
    "language_info": {
      "name": "python"
    }
  },
  "cells": [
    {
      "cell_type": "code",
      "execution_count": 1,
      "metadata": {
        "colab": {
          "base_uri": "https://localhost:8080/"
        },
        "id": "c1NZJg6HbhZ4",
        "outputId": "355656dc-6275-41dc-c877-cab601ea4b7c"
      },
      "outputs": [
        {
          "output_type": "stream",
          "name": "stdout",
          "text": [
            "Collecting biopython\n",
            "  Downloading biopython-1.81-cp310-cp310-manylinux_2_17_x86_64.manylinux2014_x86_64.whl (3.1 MB)\n",
            "\u001b[2K     \u001b[90m━━━━━━━━━━━━━━━━━━━━━━━━━━━━━━━━━━━━━━━━\u001b[0m \u001b[32m3.1/3.1 MB\u001b[0m \u001b[31m30.0 MB/s\u001b[0m eta \u001b[36m0:00:00\u001b[0m\n",
            "\u001b[?25hRequirement already satisfied: numpy in /usr/local/lib/python3.10/dist-packages (from biopython) (1.23.5)\n",
            "Installing collected packages: biopython\n",
            "Successfully installed biopython-1.81\n"
          ]
        }
      ],
      "source": [
        "!pip install biopython"
      ]
    },
    {
      "cell_type": "code",
      "source": [
        "from Bio import Entrez\n",
        "from Bio import SeqIO\n",
        "import os"
      ],
      "metadata": {
        "id": "wxtg1poocbPq"
      },
      "execution_count": 2,
      "outputs": []
    },
    {
      "cell_type": "code",
      "source": [
        "outdir = \"Week5_Homework\"\n",
        "os.makedirs(outdir, exist_ok=True)"
      ],
      "metadata": {
        "id": "ht_EJV6Ycic4"
      },
      "execution_count": 3,
      "outputs": []
    },
    {
      "cell_type": "code",
      "source": [
        "gene_id = \"7157\"\n",
        "Entrez.email = \"uygareren@posta.mu.edu.tr\""
      ],
      "metadata": {
        "id": "BulKN3dFci3o"
      },
      "execution_count": 4,
      "outputs": []
    },
    {
      "cell_type": "code",
      "source": [
        "handle = Entrez.efetch(db=\"nucleotide\", id=gene_id, rettype=\"gb\", retmode=\"text\")\n",
        "record = SeqIO.read(handle, \"genbank\")"
      ],
      "metadata": {
        "id": "9knSpOaPck0A"
      },
      "execution_count": 5,
      "outputs": []
    },
    {
      "cell_type": "code",
      "source": [
        "genomic_dna = record.seq\n",
        "mRNA = None\n",
        "CDS = None\n",
        "\n",
        "for feature in record.features:\n",
        "    if feature.type == \"mRNA\" and \"variant 1\" in feature.qualifiers.get(\"product\", [\"\"])[0]:\n",
        "        mRNA = feature.extract(record.seq)\n",
        "    elif feature.type == \"CDS\":\n",
        "        CDS = feature.extract(record.seq)\n",
        "\n",
        "# Fasta dosyalarını kaydediyoruz.\n",
        "with open(os.path.join(outdir, \"genomic_dna.fasta\"), \"w\") as f:\n",
        "    f.write(f\">Homo_sapiens_TP53_genomic_DNA\\n{genomic_dna}\\n\")\n",
        "\n",
        "if mRNA:\n",
        "    with open(os.path.join(outdir, \"mRNA.fasta\"), \"w\") as f:\n",
        "        f.write(f\">Homo_sapiens_TP53_mRNA\\n{mRNA}\\n\")\n",
        "\n",
        "if CDS:\n",
        "    with open(os.path.join(outdir, \"CDS.fasta\"), \"w\") as f:\n",
        "        f.write(f\">Homo_sapiens_TP53_CDS\\n{CDS}\\n\")\n",
        "\n",
        "print(\"Succesfull!\")"
      ],
      "metadata": {
        "colab": {
          "base_uri": "https://localhost:8080/"
        },
        "id": "z4sl72e1cnwT",
        "outputId": "ca1ef735-3ac3-4b57-aa5c-3059b7e5f9b0"
      },
      "execution_count": 6,
      "outputs": [
        {
          "output_type": "stream",
          "name": "stdout",
          "text": [
            "Succesfull!\n"
          ]
        }
      ]
    }
  ]
}